{
  "nbformat": 4,
  "nbformat_minor": 0,
  "metadata": {
    "colab": {
      "provenance": [],
      "gpuType": "T4"
    },
    "kernelspec": {
      "name": "python3",
      "display_name": "Python 3"
    },
    "language_info": {
      "name": "python"
    },
    "accelerator": "GPU"
  },
  "cells": [
    {
      "cell_type": "code",
      "execution_count": 1,
      "metadata": {
        "id": "ArGk7WW7Zwd-"
      },
      "outputs": [],
      "source": [
        "from keras.datasets import mnist\n",
        "import numpy as np\n",
        "import matplotlib.pyplot as plt\n",
        "%matplotlib inline"
      ]
    },
    {
      "cell_type": "markdown",
      "source": [
        "\n",
        "**Generator**"
      ],
      "metadata": {
        "id": "gZzZX8KuaD3V"
      }
    },
    {
      "cell_type": "code",
      "source": [
        "import sys\n",
        "import numpy as np\n",
        "from keras.layers import Dense, Reshape, BatchNormalization\n",
        "from keras.layers import LeakyReLU\n",
        "from keras.models import Sequential, Model\n",
        "from keras.optimizers import Adam\n",
        "\n",
        "# Fix 1: Change the block size to 28 * 28 * 1 at the last layer, since the output shape is (28, 28, 1).\n",
        "block_size = 128\n",
        "num_blocks=4\n",
        "OPTMIZER = Adam(lr=0.0002)\n",
        "\n",
        "generator = Sequential()\n",
        "generator.add(Dense(block_size, input_shape=(100, )))\n",
        "generator.add(LeakyReLU(alpha=0.02))\n",
        "generator.add(BatchNormalization(momentum=0.8))\n",
        "\n",
        "for i in range(num_blocks-1):\n",
        "    block_size = block_size * 2\n",
        "    generator.add(Dense(block_size))\n",
        "    generator.add(LeakyReLU(alpha=0.2))\n",
        "    generator.add(BatchNormalization(momentum=0.8))\n",
        "\n",
        "generator.add(Dense(28 * 28 * 1, activation='tanh'))\n",
        "generator.add(Reshape((28, 28, 1)))\n",
        "generator.compile(loss=\"binary_crossentropy\", optimizer=OPTMIZER)\n"
      ],
      "metadata": {
        "colab": {
          "base_uri": "https://localhost:8080/"
        },
        "id": "SvxsDnCGaHD5",
        "outputId": "e2ebc155-d79f-41e5-a973-2625c2bcbfdb"
      },
      "execution_count": 9,
      "outputs": [
        {
          "output_type": "stream",
          "name": "stderr",
          "text": [
            "WARNING:absl:`lr` is deprecated in Keras optimizer, please use `learning_rate` or use the legacy optimizer, e.g.,tf.keras.optimizers.legacy.Adam.\n"
          ]
        }
      ]
    },
    {
      "cell_type": "code",
      "source": [
        "generator.summary()"
      ],
      "metadata": {
        "colab": {
          "base_uri": "https://localhost:8080/"
        },
        "id": "kmfZnLFpcIsb",
        "outputId": "50297806-38b1-4ea2-d611-d5288e69bd4b"
      },
      "execution_count": 10,
      "outputs": [
        {
          "output_type": "stream",
          "name": "stdout",
          "text": [
            "Model: \"sequential\"\n",
            "_________________________________________________________________\n",
            " Layer (type)                Output Shape              Param #   \n",
            "=================================================================\n",
            " dense (Dense)               (None, 128)               12928     \n",
            "                                                                 \n",
            " leaky_re_lu (LeakyReLU)     (None, 128)               0         \n",
            "                                                                 \n",
            " batch_normalization (Batch  (None, 128)               512       \n",
            " Normalization)                                                  \n",
            "                                                                 \n",
            " dense_1 (Dense)             (None, 256)               33024     \n",
            "                                                                 \n",
            " leaky_re_lu_1 (LeakyReLU)   (None, 256)               0         \n",
            "                                                                 \n",
            " batch_normalization_1 (Bat  (None, 256)               1024      \n",
            " chNormalization)                                                \n",
            "                                                                 \n",
            " dense_2 (Dense)             (None, 512)               131584    \n",
            "                                                                 \n",
            " leaky_re_lu_2 (LeakyReLU)   (None, 512)               0         \n",
            "                                                                 \n",
            " batch_normalization_2 (Bat  (None, 512)               2048      \n",
            " chNormalization)                                                \n",
            "                                                                 \n",
            " dense_3 (Dense)             (None, 1024)              525312    \n",
            "                                                                 \n",
            " leaky_re_lu_3 (LeakyReLU)   (None, 1024)              0         \n",
            "                                                                 \n",
            " batch_normalization_3 (Bat  (None, 1024)              4096      \n",
            " chNormalization)                                                \n",
            "                                                                 \n",
            " dense_4 (Dense)             (None, 784)               803600    \n",
            "                                                                 \n",
            " reshape (Reshape)           (None, 28, 28, 1)         0         \n",
            "                                                                 \n",
            "=================================================================\n",
            "Total params: 1514128 (5.78 MB)\n",
            "Trainable params: 1510288 (5.76 MB)\n",
            "Non-trainable params: 3840 (15.00 KB)\n",
            "_________________________________________________________________\n"
          ]
        }
      ]
    },
    {
      "cell_type": "markdown",
      "source": [
        "**Discriminator**"
      ],
      "metadata": {
        "id": "5mFfGB48d-z3"
      }
    },
    {
      "cell_type": "code",
      "source": [
        "import sys\n",
        "import numpy as np\n",
        "from keras.layers import Input, Dense, Reshape, Flatten, Dropout\n",
        "from keras.layers import LeakyReLU\n",
        "from keras.models import Sequential, Model\n",
        "from keras.optimizers import Adam\n",
        "\n",
        "SHAPE =  (28, 28, 1)\n",
        "CAPACITY = 28 * 28 * 1\n",
        "OPTMIZER = Adam(learning_rate=0.0002)\n",
        "\n",
        "discriminator = Sequential()\n",
        "discriminator.add(Flatten(input_shape = SHAPE))\n",
        "discriminator.add(Dense(CAPACITY, input_shape=SHAPE))\n",
        "discriminator.add(LeakyReLU(alpha=0.2))\n",
        "discriminator.add(Dense(int(CAPACITY/2)))\n",
        "discriminator.add(LeakyReLU(alpha=0.2))\n",
        "discriminator.add(Dense(1, activation='sigmoid'))\n",
        "discriminator.compile(loss=\"binary_crossentropy\", optimizer=OPTMIZER)"
      ],
      "metadata": {
        "id": "Rg5UEi1geDAV"
      },
      "execution_count": 16,
      "outputs": []
    },
    {
      "cell_type": "code",
      "source": [
        "discriminator.summary()"
      ],
      "metadata": {
        "colab": {
          "base_uri": "https://localhost:8080/"
        },
        "id": "OuboyI2TeKlo",
        "outputId": "48c90b7c-909b-49d3-8ef6-b1205ae352a1"
      },
      "execution_count": 17,
      "outputs": [
        {
          "output_type": "stream",
          "name": "stdout",
          "text": [
            "Model: \"sequential_3\"\n",
            "_________________________________________________________________\n",
            " Layer (type)                Output Shape              Param #   \n",
            "=================================================================\n",
            " flatten_1 (Flatten)         (None, 784)               0         \n",
            "                                                                 \n",
            " dense_8 (Dense)             (None, 784)               615440    \n",
            "                                                                 \n",
            " leaky_re_lu_6 (LeakyReLU)   (None, 784)               0         \n",
            "                                                                 \n",
            " dense_9 (Dense)             (None, 392)               307720    \n",
            "                                                                 \n",
            " leaky_re_lu_7 (LeakyReLU)   (None, 392)               0         \n",
            "                                                                 \n",
            " dense_10 (Dense)            (None, 1)                 393       \n",
            "                                                                 \n",
            "=================================================================\n",
            "Total params: 923553 (3.52 MB)\n",
            "Trainable params: 923553 (3.52 MB)\n",
            "Non-trainable params: 0 (0.00 Byte)\n",
            "_________________________________________________________________\n"
          ]
        }
      ]
    },
    {
      "cell_type": "markdown",
      "source": [
        "**GAN**"
      ],
      "metadata": {
        "id": "ltq0QpWteTXw"
      }
    },
    {
      "cell_type": "code",
      "source": [
        "OPTIMIZER = Adam(learning_rate = 0.0002)\n",
        "discriminator.trainable = False\n",
        "\n",
        "gan = Sequential()\n",
        "gan.add(generator)\n",
        "gan.add(discriminator)\n",
        "gan.compile(loss = \"binary_crossentropy\", optimizer = OPTIMIZER)"
      ],
      "metadata": {
        "id": "w3aItpsLeU_J"
      },
      "execution_count": 18,
      "outputs": []
    },
    {
      "cell_type": "code",
      "source": [
        "gan.summary()"
      ],
      "metadata": {
        "colab": {
          "base_uri": "https://localhost:8080/"
        },
        "id": "KfUTl09NfHVT",
        "outputId": "65ad91f4-ef52-4e4c-a85c-368cd9eb9d7f"
      },
      "execution_count": 19,
      "outputs": [
        {
          "output_type": "stream",
          "name": "stdout",
          "text": [
            "Model: \"sequential_4\"\n",
            "_________________________________________________________________\n",
            " Layer (type)                Output Shape              Param #   \n",
            "=================================================================\n",
            " sequential (Sequential)     (None, 28, 28, 1)         1514128   \n",
            "                                                                 \n",
            " sequential_3 (Sequential)   (None, 1)                 923553    \n",
            "                                                                 \n",
            "=================================================================\n",
            "Total params: 2437681 (9.30 MB)\n",
            "Trainable params: 1510288 (5.76 MB)\n",
            "Non-trainable params: 927393 (3.54 MB)\n",
            "_________________________________________________________________\n"
          ]
        }
      ]
    },
    {
      "cell_type": "markdown",
      "source": [
        "**Load MNIST**"
      ],
      "metadata": {
        "id": "mIxmZdl6fby1"
      }
    },
    {
      "cell_type": "code",
      "source": [
        "model_type = -1\n",
        "def load_MNIST(model_type):\n",
        "\n",
        "    allowed_types = [-1,0,1,2,3,4,5,6,7,8,9]\n",
        "\n",
        "    if model_type not in allowed_types:\n",
        "        print('ERROR: Only Integer Values from -1 to 9 are allowed')\n",
        "\n",
        "    (X_train, Y_train), (_, _) = mnist.load_data()\n",
        "\n",
        "    xxx = X_train\n",
        "#     print(\"X_train: \", X_train.shape)\n",
        "    if model_type!=-1:\n",
        "        X_train = X_train[np.where(Y_train==int(model_type)) [0]]\n",
        "        print(\"X_train: \", X_train.shape)\n",
        "\n",
        "    X_train = ( np.float32(X_train) - 127.5) / 127.5\n",
        "#     X_train = np.expand_dims(X_train, axis=3)\n",
        "\n",
        "    return X_train, Y_train, xxx"
      ],
      "metadata": {
        "id": "zWZFWrKFfeJq"
      },
      "execution_count": 20,
      "outputs": []
    },
    {
      "cell_type": "code",
      "source": [
        "X_train , Y_train, xxx = load_MNIST(model_type = 3)"
      ],
      "metadata": {
        "colab": {
          "base_uri": "https://localhost:8080/"
        },
        "id": "hYwFfg3Vgam1",
        "outputId": "fc18400e-8ac2-4b48-8c31-8c65d09ed57c"
      },
      "execution_count": 21,
      "outputs": [
        {
          "output_type": "stream",
          "name": "stdout",
          "text": [
            "Downloading data from https://storage.googleapis.com/tensorflow/tf-keras-datasets/mnist.npz\n",
            "11490434/11490434 [==============================] - 1s 0us/step\n",
            "X_train:  (6131, 28, 28)\n"
          ]
        }
      ]
    },
    {
      "cell_type": "code",
      "source": [
        "img = plt.imshow(X_train[0])"
      ],
      "metadata": {
        "colab": {
          "base_uri": "https://localhost:8080/",
          "height": 430
        },
        "id": "vjN9VK9bgqwA",
        "outputId": "9298c4b3-df4e-4977-f769-4b446f32cb5c"
      },
      "execution_count": 22,
      "outputs": [
        {
          "output_type": "display_data",
          "data": {
            "text/plain": [
              "<Figure size 640x480 with 1 Axes>"
            ],
            "image/png": "[encoded data removed]"
          },
          "metadata": {}
        }
      ]
    },
    {
      "cell_type": "markdown",
      "source": [
        "\n",
        "**Grab a batch**"
      ],
      "metadata": {
        "id": "fIN0In18g10h"
      }
    },
    {
      "cell_type": "code",
      "source": [
        "from random import randint\n",
        "\n",
        "# Grab a batch\n",
        "count_real_images = int(32/2)\n",
        "starting_index = randint(0, (len(X_train) - count_real_images ))\n",
        "starting_index"
      ],
      "metadata": {
        "colab": {
          "base_uri": "https://localhost:8080/"
        },
        "id": "9tMD3lkRg7dZ",
        "outputId": "96bcf39c-7da8-43b3-bd62-22f777d0c3e4"
      },
      "execution_count": 24,
      "outputs": [
        {
          "output_type": "execute_result",
          "data": {
            "text/plain": [
              "5586"
            ]
          },
          "metadata": {},
          "execution_count": 24
        }
      ]
    },
    {
      "cell_type": "code",
      "source": [
        "real_images_raw = X_train[starting_index: (starting_index + count_real_images)]\n",
        "real_images_raw.shape"
      ],
      "metadata": {
        "colab": {
          "base_uri": "https://localhost:8080/"
        },
        "id": "FT9hjrJahjAJ",
        "outputId": "adb0ea9d-0b31-4e04-aeea-1195580bb463"
      },
      "execution_count": 25,
      "outputs": [
        {
          "output_type": "execute_result",
          "data": {
            "text/plain": [
              "(16, 28, 28)"
            ]
          },
          "metadata": {},
          "execution_count": 25
        }
      ]
    },
    {
      "cell_type": "code",
      "source": [
        "img = plt.imshow(real_images_raw[0])"
      ],
      "metadata": {
        "colab": {
          "base_uri": "https://localhost:8080/",
          "height": 430
        },
        "id": "x3lHfhBYiElM",
        "outputId": "2ed34060-11da-4528-db7b-1ee576d9bc08"
      },
      "execution_count": 26,
      "outputs": [
        {
          "output_type": "display_data",
          "data": {
            "text/plain": [
              "<Figure size 640x480 with 1 Axes>"
            ],
            "image/png": "[encoded data removed]"
          },
          "metadata": {}
        }
      ]
    },
    {
      "cell_type": "code",
      "source": [
        "x_real_images = real_images_raw.reshape(count_real_images, 28, 28, 1)\n",
        "x_real_images.shape"
      ],
      "metadata": {
        "colab": {
          "base_uri": "https://localhost:8080/"
        },
        "id": "eqqppGrNiMZo",
        "outputId": "f52f7ac6-d210-4491-bd8c-e15dcc06ea6c"
      },
      "execution_count": 27,
      "outputs": [
        {
          "output_type": "execute_result",
          "data": {
            "text/plain": [
              "(16, 28, 28, 1)"
            ]
          },
          "metadata": {},
          "execution_count": 27
        }
      ]
    },
    {
      "cell_type": "code",
      "source": [
        "y_real_labels = np.ones([count_real_images, 1])\n",
        "y_real_labels.shape"
      ],
      "metadata": {
        "colab": {
          "base_uri": "https://localhost:8080/"
        },
        "id": "e1XeWWBGij1I",
        "outputId": "97d2a2d0-3dea-4ed2-da1c-44093567d721"
      },
      "execution_count": 37,
      "outputs": [
        {
          "output_type": "execute_result",
          "data": {
            "text/plain": [
              "(16, 1)"
            ]
          },
          "metadata": {},
          "execution_count": 37
        }
      ]
    },
    {
      "cell_type": "markdown",
      "source": [
        "\n",
        "**Grab Generated Images for this training batch**"
      ],
      "metadata": {
        "id": "TELtddyZi2jp"
      }
    },
    {
      "cell_type": "code",
      "source": [
        "LATENT_SPACE_SIZE = 100\n",
        "def sample_latent_space(instances):\n",
        "        return np.random.normal(0, 1, (instances, LATENT_SPACE_SIZE))"
      ],
      "metadata": {
        "id": "PNKAjkuri__a"
      },
      "execution_count": 30,
      "outputs": []
    },
    {
      "cell_type": "code",
      "source": [
        "# Grab Generated Images for this training batch\n",
        "latent_space_sample = sample_latent_space(count_real_images)\n",
        "latent_space_sample.shape"
      ],
      "metadata": {
        "colab": {
          "base_uri": "https://localhost:8080/"
        },
        "id": "_pzH9yQnjhVn",
        "outputId": "6f7301d6-bb9d-4755-e2b0-c8eef6669e8c"
      },
      "execution_count": 31,
      "outputs": [
        {
          "output_type": "execute_result",
          "data": {
            "text/plain": [
              "(16, 100)"
            ]
          },
          "metadata": {},
          "execution_count": 31
        }
      ]
    },
    {
      "cell_type": "code",
      "source": [
        "x_generated_images = generator.predict(latent_space_sample)"
      ],
      "metadata": {
        "colab": {
          "base_uri": "https://localhost:8080/"
        },
        "id": "ESLF8Bvkm_D2",
        "outputId": "1a5fd502-989b-42a6-aebd-9249eaf80ab1"
      },
      "execution_count": 32,
      "outputs": [
        {
          "output_type": "stream",
          "name": "stdout",
          "text": [
            "1/1 [==============================] - 4s 4s/step\n"
          ]
        }
      ]
    },
    {
      "cell_type": "code",
      "source": [
        "y_generated_labels = np.zeros([32 - count_real_images, 1])\n",
        "y_generated_labels.shape"
      ],
      "metadata": {
        "colab": {
          "base_uri": "https://localhost:8080/"
        },
        "id": "18Ve-Zy3nM69",
        "outputId": "5459a8e4-7a6f-441c-bd8c-cde182b2c1d9"
      },
      "execution_count": 33,
      "outputs": [
        {
          "output_type": "execute_result",
          "data": {
            "text/plain": [
              "(16, 1)"
            ]
          },
          "metadata": {},
          "execution_count": 33
        }
      ]
    },
    {
      "cell_type": "code",
      "source": [
        "print(y_generated_labels[0], y_real_labels[0])\n"
      ],
      "metadata": {
        "colab": {
          "base_uri": "https://localhost:8080/"
        },
        "id": "Prj5vK41nif6",
        "outputId": "cae32af8-b7f6-46cb-9023-e08d4c02450a"
      },
      "execution_count": 34,
      "outputs": [
        {
          "output_type": "stream",
          "name": "stdout",
          "text": [
            "[0.] [1.]\n"
          ]
        }
      ]
    },
    {
      "cell_type": "code",
      "source": [
        "# Combine to train on the discriminator\n",
        "x_batch = np.concatenate( [x_real_images, x_generated_images] )\n",
        "y_batch = np.concatenate( [y_real_labels, y_generated_labels] )"
      ],
      "metadata": {
        "id": "Lx8603SYoZsK"
      },
      "execution_count": 38,
      "outputs": []
    },
    {
      "cell_type": "code",
      "source": [
        "x_batch.shape"
      ],
      "metadata": {
        "colab": {
          "base_uri": "https://localhost:8080/"
        },
        "id": "dpmJ0ckOow9_",
        "outputId": "d7737167-3fd5-4e76-b2fd-bc7e8d615a1d"
      },
      "execution_count": 39,
      "outputs": [
        {
          "output_type": "execute_result",
          "data": {
            "text/plain": [
              "(32, 28, 28, 1)"
            ]
          },
          "metadata": {},
          "execution_count": 39
        }
      ]
    },
    {
      "cell_type": "code",
      "source": [
        "y_batch[16]"
      ],
      "metadata": {
        "colab": {
          "base_uri": "https://localhost:8080/"
        },
        "id": "81HYSBJbpH-G",
        "outputId": "c764cd28-1634-477c-8198-4e90a1866e99"
      },
      "execution_count": 40,
      "outputs": [
        {
          "output_type": "execute_result",
          "data": {
            "text/plain": [
              "array([0.])"
            ]
          },
          "metadata": {},
          "execution_count": 40
        }
      ]
    },
    {
      "cell_type": "markdown",
      "source": [
        "\n",
        "**Train Adversarial Net**\n"
      ],
      "metadata": {
        "id": "yt5DK1EFpPVj"
      }
    },
    {
      "cell_type": "code",
      "source": [
        "# Now, train the discriminator with this batch\n",
        "discriminator_loss = discriminator.train_on_batch(x_batch, y_batch)\n",
        "print(\"ok\")"
      ],
      "metadata": {
        "colab": {
          "base_uri": "https://localhost:8080/"
        },
        "id": "sf89KCL_pROS",
        "outputId": "48a756f9-4e00-41fe-a856-d001c7bfc83d"
      },
      "execution_count": 41,
      "outputs": [
        {
          "output_type": "stream",
          "name": "stdout",
          "text": [
            "ok\n"
          ]
        }
      ]
    },
    {
      "cell_type": "code",
      "source": [
        "# Generate Noise\n",
        "x_latent_space_samples = sample_latent_space(32)\n",
        "y_generated_labels = np.ones([32, 1])\n",
        "y_generated_labels.shape"
      ],
      "metadata": {
        "colab": {
          "base_uri": "https://localhost:8080/"
        },
        "id": "9oKIK50jpj9i",
        "outputId": "a2e5432d-db66-455c-f1e9-c0c795c5200e"
      },
      "execution_count": 42,
      "outputs": [
        {
          "output_type": "execute_result",
          "data": {
            "text/plain": [
              "(32, 1)"
            ]
          },
          "metadata": {},
          "execution_count": 42
        }
      ]
    },
    {
      "cell_type": "code",
      "source": [
        "generator_loss = gan.train_on_batch(x_latent_space_samples, y_generated_labels)"
      ],
      "metadata": {
        "id": "JO921h1PqW5o"
      },
      "execution_count": 43,
      "outputs": []
    },
    {
      "cell_type": "code",
      "source": [
        "print ('Epoch: '+str(int(1))+', [Discriminator :: Loss:'+str(discriminator_loss)+'], [ Generator :: Loss:'+str(generator_loss)+']')"
      ],
      "metadata": {
        "colab": {
          "base_uri": "https://localhost:8080/"
        },
        "id": "LvJ-nte8qpeI",
        "outputId": "031091b7-9b42-4c47-f2b8-695c5a836caa"
      },
      "execution_count": 44,
      "outputs": [
        {
          "output_type": "stream",
          "name": "stdout",
          "text": [
            "Epoch: 1, [Discriminator :: Loss:0.7912307381629944], [ Generator :: Loss:0.5963853597640991]\n"
          ]
        }
      ]
    },
    {
      "cell_type": "code",
      "source": [],
      "metadata": {
        "id": "HWM3-8obqwcX"
      },
      "execution_count": null,
      "outputs": []
    }
  ]
}